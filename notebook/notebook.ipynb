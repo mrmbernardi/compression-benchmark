{
 "cells": [
  {
   "cell_type": "code",
   "execution_count": 7,
   "metadata": {},
   "outputs": [],
   "source": [
    "import methods"
   ]
  },
  {
   "cell_type": "code",
   "execution_count": 7,
   "metadata": {},
   "outputs": [
    {
     "name": "stdout",
     "output_type": "stream",
     "text": [
      "\n",
      "Using method Sz3\n",
      "Compressing... done\n",
      "Decompressing... done\n",
      "Comparing... done\n",
      "Original size:        80\n",
      "Compressed size:      156\n",
      "Ratio:                195%\n",
      "Compression time:     0.000118327s\n",
      "Decompression time:   6.3322e-05s\n",
      "Mean Absolute Error:  0.44375\n",
      "Max Error:            1\n"
     ]
    },
    {
     "data": {
      "text/plain": [
       "array([ 1.,  2.,  3.,  1.,  5.,  6.,  7.,  8.,  9., 10.])"
      ]
     },
     "execution_count": 7,
     "metadata": {},
     "output_type": "execute_result"
    }
   ],
   "source": [
    "from ctypes import *\n",
    "import os\n",
    "import numpy as np\n",
    "\n",
    "\n",
    "class bench_result(Structure):\n",
    "    _fields_ = [\n",
    "        (\"original_size\", c_size_t),\n",
    "        (\"compressed_size\", c_size_t),\n",
    "        (\"compression_time\", c_double),\n",
    "        (\"decompression_time\", c_double),\n",
    "        (\"max_error\", c_double),\n",
    "        (\"mean_absolute_error\", c_double),\n",
    "    ]\n",
    "\n",
    "    # https://stackoverflow.com/a/62011887/3901677\n",
    "    def __repr__(self) -> str:\n",
    "        values = \", \".join(f\"{name}={value}\" for name, value in self._asdict().items())\n",
    "        return f\"<{self.__class__.__name__}: {values}>\"\n",
    "\n",
    "    def _asdict(self) -> dict:\n",
    "        return {field[0]: getattr(self, field[0]) for field in self._fields_}\n",
    "\n",
    "\n",
    "lib = CDLL(os.path.abspath(\"../build/libcompression-benchmark.so\"))\n",
    "lib.reconstruct.argtypes = [POINTER(bench_result), c_char_p, c_char, c_void_p, c_int]\n",
    "lib.reconstruct.restype = c_int\n",
    "\n",
    "\n",
    "def reconstruct(method_name: str, array: np.ndarray):\n",
    "    if(array.dtype == np.float32):\n",
    "        dtype_char = ord('f')\n",
    "    elif(array.dtype == np.float64):\n",
    "        dtype_char = ord('d')\n",
    "    else:\n",
    "        raise Exception(\"Unsupported data type\")\n",
    "    buf = array.tobytes()\n",
    "    results = bench_result()\n",
    "    ret = lib.reconstruct(\n",
    "        byref(results),\n",
    "        create_string_buffer(method_name.encode(\"ascii\")),\n",
    "        dtype_char,\n",
    "        buf,\n",
    "        array.size,\n",
    "    )\n",
    "    if ret != 0:\n",
    "        raise Exception(\"Reconstruct failed\")\n",
    "    return np.frombuffer(buf, dtype=array.dtype)\n",
    "\n",
    "\n",
    "reconstruct(\"Sz3\", np.array([1, 2, 3, 1, 5, 6, 7, 8, 9, 10], dtype=\"double\"))"
   ]
  }
 ],
 "metadata": {
  "kernelspec": {
   "display_name": ".venv",
   "language": "python",
   "name": "python3"
  },
  "language_info": {
   "codemirror_mode": {
    "name": "ipython",
    "version": 3
   },
   "file_extension": ".py",
   "mimetype": "text/x-python",
   "name": "python",
   "nbconvert_exporter": "python",
   "pygments_lexer": "ipython3",
   "version": "3.11.6"
  }
 },
 "nbformat": 4,
 "nbformat_minor": 2
}
