{
 "cells": [
  {
   "cell_type": "code",
   "execution_count": 7,
   "metadata": {},
   "outputs": [],
   "source": [
    "import methods"
   ]
  },
  {
   "cell_type": "code",
   "execution_count": 1,
   "metadata": {},
   "outputs": [
    {
     "name": "stdout",
     "output_type": "stream",
     "text": [
      "\n",
      "Using method Sz3\n",
      "Compressing... done\n",
      "Decompressing... done\n",
      "Comparing... done\n",
      "Original size:        40\n",
      "Compressed size:      153\n",
      "Ratio:                382.5%\n",
      "Compression time:     0.000493369s\n",
      "Decompression time:   0.000250983s\n",
      "Mean Absolute Error:  0.6\n",
      "Max Error:            1\n",
      "[1. 2. 3. 1. 5.]\n",
      "<bench_result: original_size=40, compressed_size=153, compression_time=0.000493369, decompression_time=0.000250983, max_error=1.0, mean_absolute_error=0.6>\n"
     ]
    }
   ],
   "source": [
    "from ctypes import *\n",
    "import os\n",
    "import numpy as np\n",
    "\n",
    "\n",
    "class bench_result(Structure):\n",
    "    _fields_ = [\n",
    "        (\"original_size\", c_size_t),\n",
    "        (\"compressed_size\", c_size_t),\n",
    "        (\"compression_time\", c_double),\n",
    "        (\"decompression_time\", c_double),\n",
    "        (\"max_error\", c_double),\n",
    "        (\"mean_absolute_error\", c_double),\n",
    "    ]\n",
    "\n",
    "    # https://stackoverflow.com/a/62011887/3901677\n",
    "    def __repr__(self) -> str:\n",
    "        values = \", \".join(f\"{name}={value}\" for name, value in self._asdict().items())\n",
    "        return f\"<{self.__class__.__name__}: {values}>\"\n",
    "\n",
    "    def _asdict(self) -> dict:\n",
    "        return {field[0]: getattr(self, field[0]) for field in self._fields_}\n",
    "\n",
    "\n",
    "lib = CDLL(os.path.abspath(\"../build/libcompression-benchmark.so\"))\n",
    "lib.recompress.argtypes = [POINTER(bench_result), c_char, c_void_p, c_int]\n",
    "lib.recompress.restype = c_int\n",
    "\n",
    "\n",
    "arr = np.array([1, 2, 3, 1, 5], dtype=\"double\")\n",
    "buf = arr.tobytes()\n",
    "results = bench_result()\n",
    "ret = lib.recompress(byref(results), ord(\"d\"), buf, arr.size)\n",
    "arr2 = np.frombuffer(buf, dtype=\"double\")\n",
    "print(arr2)\n",
    "print(results)"
   ]
  }
 ],
 "metadata": {
  "kernelspec": {
   "display_name": ".venv",
   "language": "python",
   "name": "python3"
  },
  "language_info": {
   "codemirror_mode": {
    "name": "ipython",
    "version": 3
   },
   "file_extension": ".py",
   "mimetype": "text/x-python",
   "name": "python",
   "nbconvert_exporter": "python",
   "pygments_lexer": "ipython3",
   "version": "3.11.6"
  }
 },
 "nbformat": 4,
 "nbformat_minor": 2
}
